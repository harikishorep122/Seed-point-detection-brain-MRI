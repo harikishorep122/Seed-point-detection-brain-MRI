{
  "nbformat": 4,
  "nbformat_minor": 0,
  "metadata": {
    "colab": {
      "name": "Final_Submission.ipynb",
      "provenance": [],
      "collapsed_sections": []
    },
    "kernelspec": {
      "name": "python3",
      "display_name": "Python 3"
    },
    "accelerator": "TPU"
  },
  "cells": [
    {
      "cell_type": "markdown",
      "metadata": {
        "id": "O6nFVn6S700u",
        "colab_type": "text"
      },
      "source": [
        "# **CNN FOR SEED POINT PREDICTION**\n"
      ]
    },
    {
      "cell_type": "code",
      "metadata": {
        "id": "FoOa_6SlYSbN",
        "colab_type": "code",
        "colab": {
          "base_uri": "https://localhost:8080/",
          "height": 34
        },
        "outputId": "1ef10578-6616-4f49-aaf2-e68e34927737"
      },
      "source": [
        "import numpy as np\n",
        "import matplotlib.pyplot as plt\n",
        "import matplotlib.patches as patches\n",
        "import pandas as pd\n",
        "from IPython.display import clear_output\n",
        "from time import sleep\n",
        "import os\n",
        "import cv2\n",
        "from skimage import data, color\n",
        "from skimage.transform import rescale, resize, downscale_local_mean\n",
        "from tqdm import tqdm, tnrange, tqdm_notebook\n",
        "import random\n",
        "from tensorflow.keras.layers import Conv2D, Dense, MaxPool2D, Flatten, Dropout, Input, BatchNormalization, Activation, MaxPooling2D, Convolution2D, ZeroPadding2D\n",
        "from tensorflow.keras.models import Model\n",
        "from tensorflow.keras.optimizers import Adam, SGD\n",
        "from tensorflow.keras.utils import plot_model\n",
        "from tensorflow.keras.models import Sequential\n",
        "from sklearn.model_selection import train_test_split\n",
        "import tensorflow.keras.models\n",
        "from tensorflow.python.keras.layers.advanced_activations import LeakyReLU\n",
        "np.set_printoptions(threshold=np.sys.maxsize)\n",
        "import tensorflow as tf\n",
        "print(tf.__version__)\n",
        "\n",
        "import datetime\n",
        "from time import time\n",
        "\n",
        "%matplotlib inline"
      ],
      "execution_count": null,
      "outputs": [
        {
          "output_type": "stream",
          "text": [
            "1.15.0\n"
          ],
          "name": "stdout"
        }
      ]
    },
    {
      "cell_type": "code",
      "metadata": {
        "id": "7TBVja4Xf-DM",
        "colab_type": "code",
        "colab": {
          "base_uri": "https://localhost:8080/",
          "height": 34
        },
        "outputId": "2139ec0b-fe0b-4036-8ca7-179da9d7e6a2"
      },
      "source": [
        "from google.colab import drive\n",
        "drive.mount('/content/gdrive')"
      ],
      "execution_count": null,
      "outputs": [
        {
          "output_type": "stream",
          "text": [
            "Drive already mounted at /content/gdrive; to attempt to forcibly remount, call drive.mount(\"/content/gdrive\", force_remount=True).\n"
          ],
          "name": "stdout"
        }
      ]
    },
    {
      "cell_type": "code",
      "metadata": {
        "id": "B99qyJrFY78-",
        "colab_type": "code",
        "colab": {
          "resources": {
            "http://localhost:8080/nbextensions/google.colab/files.js": {
              "data": "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",
              "ok": true,
              "headers": [
                [
                  "content-type",
                  "application/javascript"
                ]
              ],
              "status": 200,
              "status_text": ""
            }
          },
          "base_uri": "https://localhost:8080/",
          "height": 71
        },
        "outputId": "2b04fd98-c026-4ff6-e4d2-ca1424266347"
      },
      "source": [
        "# Import training set: '112519_images_subset5000_train.npy.npz' from folder 'code' in 'etPartTwo'\n",
        "# Run this code to import the training data.\n",
        "\n",
        "from google.colab import files\n",
        "uploaded_train = files.upload()"
      ],
      "execution_count": null,
      "outputs": [
        {
          "output_type": "display_data",
          "data": {
            "text/html": [
              "\n",
              "     <input type=\"file\" id=\"files-07b3bd0f-c8ba-4025-882b-f54a824af0bd\" name=\"files[]\" multiple disabled />\n",
              "     <output id=\"result-07b3bd0f-c8ba-4025-882b-f54a824af0bd\">\n",
              "      Upload widget is only available when the cell has been executed in the\n",
              "      current browser session. Please rerun this cell to enable.\n",
              "      </output>\n",
              "      <script src=\"/nbextensions/google.colab/files.js\"></script> "
            ],
            "text/plain": [
              "<IPython.core.display.HTML object>"
            ]
          },
          "metadata": {
            "tags": []
          }
        },
        {
          "output_type": "stream",
          "text": [
            "Saving 112719_ET_training_set_700.npy.npz to 112719_ET_training_set_700.npy.npz\n"
          ],
          "name": "stdout"
        }
      ]
    },
    {
      "cell_type": "code",
      "metadata": {
        "id": "5-2SF4QRZcuA",
        "colab_type": "code",
        "colab": {}
      },
      "source": [
        "#loaded_image_files_train = np.load('120219_images_subset5000_train.npy.npz')\n",
        "#loaded_image_files_train = np.load('111419_images_subset1000.npy.npz')\n",
        "\n",
        "#Data of intrest (Loading)\n",
        "loaded_image_files_train = np.load('112719_ET_training_set_700.npy.npz')\n",
        "\n",
        "\n",
        "imgTrain = loaded_image_files_train['arr_0'] # this is the set of images that contain image slices with enhancing tumor\n",
        "imgMaskTrain = loaded_image_files_train['arr_1'] # the corresponding masks\n",
        "bbTrain = loaded_image_files_train['arr_2'] # the corresponding bounding box coordinates around the enhancing tumor / mask\n",
        "seedPtTrain = loaded_image_files_train['arr_3'] # seed point in mask\n",
        "\n",
        "#Normalising The data \n",
        "imgTrain = imgTrain/255\n",
        "seedPtTrain = seedPtTrain/240"
      ],
      "execution_count": null,
      "outputs": []
    },
    {
      "cell_type": "code",
      "metadata": {
        "id": "Rr6PVkBFZgss",
        "colab_type": "code",
        "colab": {}
      },
      "source": [
        "# import testing set: '112519_images_subset100_test.npy.npz' from folder 'code' in 'etPartTwo'\n",
        "# Run this code to import test data.\n",
        "\n",
        "from google.colab import files\n",
        "uploaded_testing = files.upload()"
      ],
      "execution_count": null,
      "outputs": []
    },
    {
      "cell_type": "code",
      "metadata": {
        "id": "sBwiK6VXZtdz",
        "colab_type": "code",
        "colab": {}
      },
      "source": [
        "# Loading the test set data\n",
        "loaded_image_files_test = np.load('120219_images_subset100_test.npy.npz')\n",
        "\n",
        "imgTest = loaded_image_files_test['arr_0'] # this is the set of images that contain image slices with enhancing tumor\n",
        "imgMaskTest = loaded_image_files_test['arr_1'] # the corresponding masks\n",
        "bbTest = loaded_image_files_test['arr_2'] # the corresponding bounding box coordinates around the enhancing tumor / mask\n",
        "seedPtTest = loaded_image_files_test['arr_3'] # seed point in mask\n",
        "\n",
        "# Normalising the test set data\n",
        "imgTest = imgTest/255\n",
        "seedPtTest = seedPtTest/240"
      ],
      "execution_count": null,
      "outputs": []
    },
    {
      "cell_type": "code",
      "metadata": {
        "id": "dldJpIl1ZxHb",
        "colab_type": "code",
        "colab": {}
      },
      "source": [
        "# add index of 1 because Keras wants it, to training set\n",
        "imgTrain = np.expand_dims(imgTrain,axis=3)\n",
        "imgMaskTrain = np.expand_dims(imgMaskTrain,axis=3)\n",
        "\n",
        "imgTest = np.expand_dims(imgTest,axis=3)\n",
        "imgMaskTest = np.expand_dims(imgMaskTest,axis=3)\n",
        "\n",
        "print(imgTrain.shape)\n",
        "print(imgMaskTrain.shape)\n",
        "print(imgTest.shape)\n",
        "print(imgMaskTest.shape)"
      ],
      "execution_count": null,
      "outputs": []
    },
    {
      "cell_type": "markdown",
      "metadata": {
        "id": "Bf8--qaA2SRA",
        "colab_type": "text"
      },
      "source": [
        "## **Plotting of Sample Data**"
      ]
    },
    {
      "cell_type": "code",
      "metadata": {
        "id": "Ohaf-HyYZ6BT",
        "colab_type": "code",
        "colab": {}
      },
      "source": [
        "# Plotting a sample of the data\n",
        "\n",
        "# Data sample index\n",
        "Ntest = 499\n",
        "\n",
        "imgSlice = np.squeeze(imgTrain[Ntest,...],axis=2)\n",
        "imgMaskSlice = np.squeeze(imgMaskTrain[Ntest,...],axis=2)\n",
        "mask_bbox = bbTrain[Ntest,:]\n",
        "\n",
        "fig, ax = plt.subplots(nrows=1, ncols=4)\n",
        "\n",
        "fig.set_figheight(15)\n",
        "fig.set_figwidth(15)\n",
        "\n",
        "\n",
        "ax[0].imshow(imgSlice, cmap='gray')\n",
        "ax[1].imshow(imgMaskSlice, cmap='gray')\n",
        "ax[2].imshow(imgSlice, cmap='gray')\n",
        "rect = patches.Rectangle((mask_bbox[2],mask_bbox[3]),(mask_bbox[0]-mask_bbox[2]),(mask_bbox[1]-mask_bbox[3]),linewidth=1,edgecolor='r',facecolor='none')\n",
        "ax[2].add_patch(rect)\n",
        "ax[3].imshow(imgSlice, cmap='gray')\n",
        "\n",
        "plt.scatter(seedPtTrain[Ntest,0]*240,seedPtTrain[Ntest, 1]*240,s=10,c='r')\n",
        "plt.show()\n"
      ],
      "execution_count": null,
      "outputs": []
    },
    {
      "cell_type": "markdown",
      "metadata": {
        "id": "Ikbxg4fq0lsa",
        "colab_type": "text"
      },
      "source": [
        "# **Network Architecture**"
      ]
    },
    {
      "cell_type": "code",
      "metadata": {
        "id": "xRsjyKVTQc5s",
        "colab_type": "code",
        "colab": {}
      },
      "source": [
        "# For a detailed description refer to the Documentation provided\n",
        "\n",
        "from tensorflow.keras.layers import Dense , Dropout , Lambda, Flatten,Conv2D,MaxPooling2D,Activation,BatchNormalization,LeakyReLU\n",
        "from tensorflow.keras.preprocessing.image import ImageDataGenerator\n",
        "from tensorflow.keras.optimizers import Adam ,RMSprop , Adamax, Adadelta\n",
        "from tensorflow.keras.models import load_model\n",
        "\n",
        "model=Sequential()\n",
        "model.add(Conv2D(filters=32, kernel_size=(3,3), padding='same',input_shape=(240, 240,1)))\n",
        "model.add(Activation('relu'))\n",
        "#model.add(Dropout(0.3))\n",
        "model.add(MaxPooling2D(pool_size=(2,2), padding='same'))\n",
        "#model.add(Activation('relu'))\n",
        "model.add(Conv2D(filters=64, kernel_size=(3,3),padding='same'))\n",
        "model.add(Activation('relu'))\n",
        "model.add(MaxPooling2D(pool_size=(2,2), padding='same'))\n",
        "model.add(Conv2D(filters=128, kernel_size=(3,3),padding='same'))\n",
        "model.add(Activation('relu'))\n",
        "model.add(MaxPooling2D(pool_size=(2,2), padding='same'))\n",
        "model.add(Conv2D(filters=128, kernel_size=(3,3),padding='same'))\n",
        "model.add(Activation('relu'))\n",
        "model.add(MaxPooling2D(pool_size=(2,2),padding='same'))\n",
        "model.add(Flatten())\n",
        "model.add(Dense(512))\n",
        "model.add(Activation('relu'))\n",
        "model.add(Dense(128))\n",
        "model.add(Activation('relu'))\n",
        "model.add(Dense(2))\n",
        "model.add(Activation('sigmoid'))\n",
        "\n",
        "model.compile(optimizer=Adam(learning_rate=0.001, beta_1=0.9, beta_2=0.999, amsgrad=False),\n",
        "              loss='mae',\n",
        "              metrics=['mae', 'mse', 'accuracy'])\n",
        "model.summary()\n"
      ],
      "execution_count": null,
      "outputs": []
    },
    {
      "cell_type": "markdown",
      "metadata": {
        "id": "0Y8aKS9g4zL_",
        "colab_type": "text"
      },
      "source": [
        "***Function to plot the convergence history of the model***"
      ]
    },
    {
      "cell_type": "code",
      "metadata": {
        "id": "f1MpX52anjDC",
        "colab_type": "code",
        "colab": {}
      },
      "source": [
        "\n",
        "def plotgraph(history, RMSE=True):\n",
        "    \n",
        "    loss = history['loss']\n",
        "    val_loss = history['val_loss']\n",
        "    if RMSE:\n",
        "        loss = np.sqrt(np.array(loss))\n",
        "        val_loss = np.sqrt(np.array(val_loss))\n",
        "    acc = history['acc']\n",
        "    val_acc = history['val_acc']\n",
        "    \n",
        "    plt.figure(figsize=(10,15))\n",
        "    plt.subplot(2,1,1)\n",
        "    plt.plot(loss , linewidth=3 ,label='train loss')\n",
        "    plt.plot(val_loss , linewidth=3, label='val loss')\n",
        "    plt.xlabel('epochs')\n",
        "    plt.ylabel('loss / val_loss')\n",
        "    plt.legend()\n",
        "    \n",
        "    plt.subplot(2,1,2)\n",
        "    plt.plot(acc , linewidth=3 ,label='train acc')\n",
        "    plt.plot(val_acc , linewidth=3, label='val acc')\n",
        "    plt.xlabel('epochs')\n",
        "    plt.ylabel('Accuracy / Val_Accuracy')\n",
        "    plt.legend()"
      ],
      "execution_count": null,
      "outputs": []
    },
    {
      "cell_type": "markdown",
      "metadata": {
        "id": "LYbg78ew37JL",
        "colab_type": "text"
      },
      "source": [
        "# **Training and analysing the network**"
      ]
    },
    {
      "cell_type": "code",
      "metadata": {
        "colab_type": "code",
        "id": "AkPU0poXUijC",
        "colab": {}
      },
      "source": [
        "t1 = time()\n",
        "import tensorflow as tf\n",
        "checkpoint_path = \"/content/gdrive/My Drive/cp.ckpt\"\n",
        "checkpoint_dir = os.path.dirname(checkpoint_path)\n",
        "\n",
        "# Create a callback that saves the model's weights\n",
        "cp_callback = tf.keras.callbacks.ModelCheckpoint(filepath=checkpoint_path,\n",
        "                                                 save_weights_only=True,\n",
        "                                                 verbose=1)\n",
        "# Train our model\n",
        "history=model.fit(imgTrain, seedPtTrain, epochs=30, batch_size=20, \n",
        "                  validation_split=0.1, callbacks=[cp_callback])\n",
        "\n",
        "timeHHMMSS = str(datetime.timedelta(seconds=time()-t1))\n",
        "print(\"total time:\", timeHHMMSS)\n",
        "\n",
        "# Save the  model in HDF5 format\n",
        "model.save(\"/content/gdrive/My Drive/my_model_112719.h5\")\n",
        "\n",
        "# Plot loss and accuracy\n",
        "plotgraph(history.history)\n"
      ],
      "execution_count": null,
      "outputs": []
    },
    {
      "cell_type": "markdown",
      "metadata": {
        "id": "wyxxRi5b5VSX",
        "colab_type": "text"
      },
      "source": [
        "***Load the trained model in for testing***"
      ]
    },
    {
      "cell_type": "code",
      "metadata": {
        "id": "wcaLX92ta4Lj",
        "colab_type": "code",
        "colab": {}
      },
      "source": [
        "model = tensorflow.keras.models.load_model('/content/gdrive/My Drive/my_model_112719.h5')\n",
        "model.summary()"
      ],
      "execution_count": null,
      "outputs": []
    },
    {
      "cell_type": "markdown",
      "metadata": {
        "id": "kz64fYwL6bd4",
        "colab_type": "text"
      },
      "source": [
        "# **Predict on test dataset**"
      ]
    },
    {
      "cell_type": "code",
      "metadata": {
        "id": "CPoPzCYCl0IW",
        "colab_type": "code",
        "colab": {}
      },
      "source": [
        "# Find predictions on test set \n",
        "predictions = np.array(model.predict(imgTest))*240\n",
        "# For testing purpose\n",
        "# predictions_train_set = np.array(model.predict(imgTrain))*240"
      ],
      "execution_count": null,
      "outputs": []
    },
    {
      "cell_type": "markdown",
      "metadata": {
        "id": "akWSw_W2ummV",
        "colab_type": "text"
      },
      "source": [
        "## ***Plotting predicted seed point on corresponding test image***"
      ]
    },
    {
      "cell_type": "code",
      "metadata": {
        "id": "sYInAHQKmIhh",
        "colab_type": "code",
        "colab": {
          "base_uri": "https://localhost:8080/",
          "height": 286
        },
        "outputId": "84985ffc-f04f-4e3d-bde6-4a73cd06e543"
      },
      "source": [
        "# Test Image Index\n",
        "N_test = 20\n",
        "\n",
        "plt.imshow(np.squeeze(imgTest[N_test],axis=2),cmap='gray')\n",
        "#plt.scatter(np.round(predictions[N_test,0]),np.round(predictions[N_test,0]),s=20,c='red')\n",
        "plt.scatter(predictions[N_test,0], predictions[N_test,1])\n",
        "#plt.scatter(44,70,s=20,c='red')"
      ],
      "execution_count": null,
      "outputs": [
        {
          "output_type": "execute_result",
          "data": {
            "text/plain": [
              "<matplotlib.collections.PathCollection at 0x7fec5fbc1ef0>"
            ]
          },
          "metadata": {
            "tags": []
          },
          "execution_count": 131
        },
        {
          "output_type": "display_data",
          "data": {
            "image/png": "[encoded data removed]",
            "text/plain": [
              "<Figure size 432x288 with 1 Axes>"
            ]
          },
          "metadata": {
            "tags": []
          }
        }
      ]
    },
    {
      "cell_type": "markdown",
      "metadata": {
        "id": "W7GXZaiVBQsu",
        "colab_type": "text"
      },
      "source": [
        "***Analysing Model Predictions***"
      ]
    },
    {
      "cell_type": "code",
      "metadata": {
        "id": "7YBWC-ToQEYa",
        "colab_type": "code",
        "colab": {
          "base_uri": "https://localhost:8080/",
          "height": 233
        },
        "outputId": "8a754033-01ba-45af-84f1-0a78fe52efeb"
      },
      "source": [
        "Ntest = 1\n",
        "\n",
        "imgSlice = np.squeeze(imgTest[Ntest,...],axis=2)\n",
        "imgMaskSlice = np.squeeze(imgMaskTest[Ntest,...],axis=2)\n",
        "mask_bbox = bbTest[Ntest,:]\n",
        "\n",
        "fig, ax = plt.subplots(nrows=1, ncols=4)\n",
        "\n",
        "fig.set_figheight(15)\n",
        "fig.set_figwidth(15)\n",
        "\n",
        "\n",
        "ax[0].imshow(imgSlice, cmap='gray')\n",
        "ax[1].imshow(imgMaskSlice, cmap='gray')\n",
        "ax[2].imshow(imgSlice, cmap='gray')\n",
        "rect = patches.Rectangle((mask_bbox[2],mask_bbox[3]),(mask_bbox[0]-mask_bbox[2]),(mask_bbox[1]-mask_bbox[3]),linewidth=1,edgecolor='r',facecolor='none')\n",
        "ax[2].add_patch(rect)\n",
        "ax[3].imshow(imgSlice, cmap='gray')\n",
        "\n",
        "plt.scatter(predictions[Ntest,0], predictions[Ntest, 1],s=10,c='b')\n",
        "plt.show()\n"
      ],
      "execution_count": null,
      "outputs": [
        {
          "output_type": "display_data",
          "data": {
            "image/png": "[encoded data removed]",
            "text/plain": [
              "<Figure size 1080x1080 with 4 Axes>"
            ]
          },
          "metadata": {
            "tags": []
          }
        }
      ]
    },
    {
      "cell_type": "markdown",
      "metadata": {
        "id": "T1NiZ1KKft35",
        "colab_type": "text"
      },
      "source": [
        "# **Plotting the ROC Curve**\n",
        "The True positive is considered as the point that lies in +or- 15 pixels around the ground truth, The False positive is considered as a point which lies outside the Region of intrest, The test is done on the prediction of the test images , A graph is plotted between normalized True positive and False positive."
      ]
    },
    {
      "cell_type": "code",
      "metadata": {
        "id": "8yVLVNT3d1x_",
        "colab_type": "code",
        "colab": {}
      },
      "source": [
        "import time\n",
        "from google.colab.patches import cv2_imshow as im\n",
        "g = np.linspace(1,20,100)\n",
        "True_Positive = []\n",
        "False_Positive = []\n",
        "for j in g:\n",
        "  count = 0\n",
        "  for i in range(len(imgTest)):\n",
        "    n = j\n",
        "    if n == 0:\n",
        "      dst = imgTest[i]\n",
        "    else:\n",
        "      kernel = np.ones((int(n),int(n)),np.float32)/n**2\n",
        "      dst = cv2.filter2D(imgTest[i], -1, kernel)\n",
        "      dst = np.expand_dims(dst,axis=3)\n",
        "\n",
        "    u = model.predict(np.array([dst]))[0]*240\n",
        "    x1, y1 = u[0], u[1]\n",
        "    mask_bbox = bbTest[i,:]\n",
        "    x, y = predictions[i,0], predictions[i,1]\n",
        "    a = mask_bbox[0]\n",
        "    b = mask_bbox[1]\n",
        "    c = mask_bbox[2]\n",
        "    d = mask_bbox[3]\n",
        "    if a - 15< x1 < c + 15 and b - 15 < y1 < d + 15:\n",
        "      count += 1\n",
        "  True_Positive.append(count/100)\n",
        "  False_Positive.append((100-count)/100)\n",
        "    \n",
        "\n",
        "print(True_Positive.sort())\n",
        "print(False_Positive.sort())\n",
        "True_Positive = [0] + True_Positive + [1.0]\n",
        "False_Positive = [0] + False_Positive + [1.0]\n",
        "\n",
        "\n",
        "\n",
        "\n"
      ],
      "execution_count": null,
      "outputs": []
    },
    {
      "cell_type": "markdown",
      "metadata": {
        "id": "QjDMvw7PBY2K",
        "colab_type": "text"
      },
      "source": [
        "***PLOTTER***"
      ]
    },
    {
      "cell_type": "code",
      "metadata": {
        "id": "ubIeDYt9ZDES",
        "colab_type": "code",
        "colab": {
          "base_uri": "https://localhost:8080/",
          "height": 367
        },
        "outputId": "f4e56943-bc92-45ec-b94e-8fd4f77bdfc1"
      },
      "source": [
        "fig, ax = plt.subplots(nrows=1, ncols=1)\n",
        "\n",
        "fig.set_figheight(5)\n",
        "fig.set_figwidth(5)\n",
        "\n",
        "ax.plot(False_Positive, True_Positive , c = \"r\")\n",
        "plt.xlabel(\"False Positive\")\n",
        "plt.ylabel(\"True Positive\")\n",
        "plt.title(\"ROC Curve\")"
      ],
      "execution_count": null,
      "outputs": [
        {
          "output_type": "execute_result",
          "data": {
            "text/plain": [
              "Text(0.5, 1.0, 'ROC Curve')"
            ]
          },
          "metadata": {
            "tags": []
          },
          "execution_count": 143
        },
        {
          "output_type": "display_data",
          "data": {
            "image/png": "[encoded data removed]",
            "text/plain": [
              "<Figure size 360x360 with 1 Axes>"
            ]
          },
          "metadata": {
            "tags": []
          }
        }
      ]
    },
    {
      "cell_type": "code",
      "metadata": {
        "id": "gVBUe7VqFgbR",
        "colab_type": "code",
        "colab": {}
      },
      "source": [
        ""
      ],
      "execution_count": null,
      "outputs": []
    }
  ]
}